{
  "cells": [
    {
      "attachments": {},
      "cell_type": "markdown",
      "metadata": {
        "id": "8rG0LrLjZ3gX"
      },
      "source": [
        "# Task 3 - Modeling\n",
        "## Section 1 - Setup"
      ]
    },
    {
      "cell_type": "code",
      "execution_count": 48,
      "metadata": {
        "id": "nenrhey1aYiD"
      },
      "outputs": [],
      "source": [
        "import pandas as pd"
      ]
    },
    {
      "attachments": {},
      "cell_type": "markdown",
      "metadata": {
        "id": "ncPFYiD_abg4"
      },
      "source": [
        "---\n",
        "\n",
        "## Section 2 - Data loading\n"
      ]
    },
    {
      "cell_type": "code",
      "execution_count": 49,
      "metadata": {
        "colab": {
          "base_uri": "https://localhost:8080/",
          "height": 250
        },
        "id": "hPJPVY2IaZdy",
        "outputId": "16a7f02a-cd42-468b-9c3b-473abb64e60e"
      },
      "outputs": [
        {
          "data": {
            "text/html": [
              "<div>\n",
              "<style scoped>\n",
              "    .dataframe tbody tr th:only-of-type {\n",
              "        vertical-align: middle;\n",
              "    }\n",
              "\n",
              "    .dataframe tbody tr th {\n",
              "        vertical-align: top;\n",
              "    }\n",
              "\n",
              "    .dataframe thead th {\n",
              "        text-align: right;\n",
              "    }\n",
              "</style>\n",
              "<table border=\"1\" class=\"dataframe\">\n",
              "  <thead>\n",
              "    <tr style=\"text-align: right;\">\n",
              "      <th></th>\n",
              "      <th>transaction_id</th>\n",
              "      <th>timestamp</th>\n",
              "      <th>product_id</th>\n",
              "      <th>category</th>\n",
              "      <th>customer_type</th>\n",
              "      <th>unit_price</th>\n",
              "      <th>quantity</th>\n",
              "      <th>total</th>\n",
              "      <th>payment_type</th>\n",
              "    </tr>\n",
              "  </thead>\n",
              "  <tbody>\n",
              "    <tr>\n",
              "      <th>0</th>\n",
              "      <td>a1c82654-c52c-45b3-8ce8-4c2a1efe63ed</td>\n",
              "      <td>2022-03-02 09:51:38</td>\n",
              "      <td>3bc6c1ea-0198-46de-9ffd-514ae3338713</td>\n",
              "      <td>fruit</td>\n",
              "      <td>gold</td>\n",
              "      <td>3.99</td>\n",
              "      <td>2</td>\n",
              "      <td>7.98</td>\n",
              "      <td>e-wallet</td>\n",
              "    </tr>\n",
              "    <tr>\n",
              "      <th>1</th>\n",
              "      <td>931ad550-09e8-4da6-beaa-8c9d17be9c60</td>\n",
              "      <td>2022-03-06 10:33:59</td>\n",
              "      <td>ad81b46c-bf38-41cf-9b54-5fe7f5eba93e</td>\n",
              "      <td>fruit</td>\n",
              "      <td>standard</td>\n",
              "      <td>3.99</td>\n",
              "      <td>1</td>\n",
              "      <td>3.99</td>\n",
              "      <td>e-wallet</td>\n",
              "    </tr>\n",
              "    <tr>\n",
              "      <th>2</th>\n",
              "      <td>ae133534-6f61-4cd6-b6b8-d1c1d8d90aea</td>\n",
              "      <td>2022-03-04 17:20:21</td>\n",
              "      <td>7c55cbd4-f306-4c04-a030-628cbe7867c1</td>\n",
              "      <td>fruit</td>\n",
              "      <td>premium</td>\n",
              "      <td>0.19</td>\n",
              "      <td>2</td>\n",
              "      <td>0.38</td>\n",
              "      <td>e-wallet</td>\n",
              "    </tr>\n",
              "    <tr>\n",
              "      <th>3</th>\n",
              "      <td>157cebd9-aaf0-475d-8a11-7c8e0f5b76e4</td>\n",
              "      <td>2022-03-02 17:23:58</td>\n",
              "      <td>80da8348-1707-403f-8be7-9e6deeccc883</td>\n",
              "      <td>fruit</td>\n",
              "      <td>gold</td>\n",
              "      <td>0.19</td>\n",
              "      <td>4</td>\n",
              "      <td>0.76</td>\n",
              "      <td>e-wallet</td>\n",
              "    </tr>\n",
              "    <tr>\n",
              "      <th>4</th>\n",
              "      <td>a81a6cd3-5e0c-44a2-826c-aea43e46c514</td>\n",
              "      <td>2022-03-05 14:32:43</td>\n",
              "      <td>7f5e86e6-f06f-45f6-bf44-27b095c9ad1d</td>\n",
              "      <td>fruit</td>\n",
              "      <td>basic</td>\n",
              "      <td>4.49</td>\n",
              "      <td>2</td>\n",
              "      <td>8.98</td>\n",
              "      <td>debit card</td>\n",
              "    </tr>\n",
              "  </tbody>\n",
              "</table>\n",
              "</div>"
            ],
            "text/plain": [
              "                         transaction_id            timestamp  \\\n",
              "0  a1c82654-c52c-45b3-8ce8-4c2a1efe63ed  2022-03-02 09:51:38   \n",
              "1  931ad550-09e8-4da6-beaa-8c9d17be9c60  2022-03-06 10:33:59   \n",
              "2  ae133534-6f61-4cd6-b6b8-d1c1d8d90aea  2022-03-04 17:20:21   \n",
              "3  157cebd9-aaf0-475d-8a11-7c8e0f5b76e4  2022-03-02 17:23:58   \n",
              "4  a81a6cd3-5e0c-44a2-826c-aea43e46c514  2022-03-05 14:32:43   \n",
              "\n",
              "                             product_id category customer_type  unit_price  \\\n",
              "0  3bc6c1ea-0198-46de-9ffd-514ae3338713    fruit          gold        3.99   \n",
              "1  ad81b46c-bf38-41cf-9b54-5fe7f5eba93e    fruit      standard        3.99   \n",
              "2  7c55cbd4-f306-4c04-a030-628cbe7867c1    fruit       premium        0.19   \n",
              "3  80da8348-1707-403f-8be7-9e6deeccc883    fruit          gold        0.19   \n",
              "4  7f5e86e6-f06f-45f6-bf44-27b095c9ad1d    fruit         basic        4.49   \n",
              "\n",
              "   quantity  total payment_type  \n",
              "0         2   7.98     e-wallet  \n",
              "1         1   3.99     e-wallet  \n",
              "2         2   0.38     e-wallet  \n",
              "3         4   0.76     e-wallet  \n",
              "4         2   8.98   debit card  "
            ]
          },
          "execution_count": 49,
          "metadata": {},
          "output_type": "execute_result"
        }
      ],
      "source": [
        "path = \"data/\"\n",
        "\n",
        "sales_df = pd.read_csv(f\"{path}sales.csv\")\n",
        "sales_df.drop(columns=[\"Unnamed: 0\"], inplace=True, errors='ignore')\n",
        "sales_df.head()"
      ]
    },
    {
      "cell_type": "code",
      "execution_count": 50,
      "metadata": {
        "colab": {
          "base_uri": "https://localhost:8080/",
          "height": 206
        },
        "id": "BmrEgGsRawiS",
        "outputId": "cba7168d-c75e-4650-a479-174ad886b22a"
      },
      "outputs": [
        {
          "data": {
            "text/html": [
              "<div>\n",
              "<style scoped>\n",
              "    .dataframe tbody tr th:only-of-type {\n",
              "        vertical-align: middle;\n",
              "    }\n",
              "\n",
              "    .dataframe tbody tr th {\n",
              "        vertical-align: top;\n",
              "    }\n",
              "\n",
              "    .dataframe thead th {\n",
              "        text-align: right;\n",
              "    }\n",
              "</style>\n",
              "<table border=\"1\" class=\"dataframe\">\n",
              "  <thead>\n",
              "    <tr style=\"text-align: right;\">\n",
              "      <th></th>\n",
              "      <th>id</th>\n",
              "      <th>timestamp</th>\n",
              "      <th>product_id</th>\n",
              "      <th>estimated_stock_pct</th>\n",
              "    </tr>\n",
              "  </thead>\n",
              "  <tbody>\n",
              "    <tr>\n",
              "      <th>0</th>\n",
              "      <td>4220e505-c247-478d-9831-6b9f87a4488a</td>\n",
              "      <td>2022-03-07 12:13:02</td>\n",
              "      <td>f658605e-75f3-4fed-a655-c0903f344427</td>\n",
              "      <td>0.75</td>\n",
              "    </tr>\n",
              "    <tr>\n",
              "      <th>1</th>\n",
              "      <td>f2612b26-fc82-49ea-8940-0751fdd4d9ef</td>\n",
              "      <td>2022-03-07 16:39:46</td>\n",
              "      <td>de06083a-f5c0-451d-b2f4-9ab88b52609d</td>\n",
              "      <td>0.48</td>\n",
              "    </tr>\n",
              "    <tr>\n",
              "      <th>2</th>\n",
              "      <td>989a287f-67e6-4478-aa49-c3a35dac0e2e</td>\n",
              "      <td>2022-03-01 18:17:43</td>\n",
              "      <td>ce8f3a04-d1a4-43b1-a7c2-fa1b8e7674c8</td>\n",
              "      <td>0.58</td>\n",
              "    </tr>\n",
              "    <tr>\n",
              "      <th>3</th>\n",
              "      <td>af8e5683-d247-46ac-9909-1a77bdebefb2</td>\n",
              "      <td>2022-03-02 14:29:09</td>\n",
              "      <td>c21e3ba9-92a3-4745-92c2-6faef73223f7</td>\n",
              "      <td>0.79</td>\n",
              "    </tr>\n",
              "    <tr>\n",
              "      <th>4</th>\n",
              "      <td>08a32247-3f44-4002-85fb-c198434dd4bb</td>\n",
              "      <td>2022-03-02 13:46:18</td>\n",
              "      <td>7f478817-aa5b-44e9-9059-8045228c9eb0</td>\n",
              "      <td>0.22</td>\n",
              "    </tr>\n",
              "  </tbody>\n",
              "</table>\n",
              "</div>"
            ],
            "text/plain": [
              "                                     id            timestamp  \\\n",
              "0  4220e505-c247-478d-9831-6b9f87a4488a  2022-03-07 12:13:02   \n",
              "1  f2612b26-fc82-49ea-8940-0751fdd4d9ef  2022-03-07 16:39:46   \n",
              "2  989a287f-67e6-4478-aa49-c3a35dac0e2e  2022-03-01 18:17:43   \n",
              "3  af8e5683-d247-46ac-9909-1a77bdebefb2  2022-03-02 14:29:09   \n",
              "4  08a32247-3f44-4002-85fb-c198434dd4bb  2022-03-02 13:46:18   \n",
              "\n",
              "                             product_id  estimated_stock_pct  \n",
              "0  f658605e-75f3-4fed-a655-c0903f344427                 0.75  \n",
              "1  de06083a-f5c0-451d-b2f4-9ab88b52609d                 0.48  \n",
              "2  ce8f3a04-d1a4-43b1-a7c2-fa1b8e7674c8                 0.58  \n",
              "3  c21e3ba9-92a3-4745-92c2-6faef73223f7                 0.79  \n",
              "4  7f478817-aa5b-44e9-9059-8045228c9eb0                 0.22  "
            ]
          },
          "execution_count": 50,
          "metadata": {},
          "output_type": "execute_result"
        }
      ],
      "source": [
        "stock_df = pd.read_csv(f\"{path}sensor_stock_levels.csv\")\n",
        "stock_df.drop(columns=[\"Unnamed: 0\"], inplace=True, errors='ignore')\n",
        "stock_df.head()"
      ]
    },
    {
      "cell_type": "code",
      "execution_count": 51,
      "metadata": {
        "colab": {
          "base_uri": "https://localhost:8080/",
          "height": 206
        },
        "id": "qDJ9PrbZa5Ro",
        "outputId": "5589a683-dacb-448a-866f-053677ba4f7c"
      },
      "outputs": [
        {
          "data": {
            "text/html": [
              "<div>\n",
              "<style scoped>\n",
              "    .dataframe tbody tr th:only-of-type {\n",
              "        vertical-align: middle;\n",
              "    }\n",
              "\n",
              "    .dataframe tbody tr th {\n",
              "        vertical-align: top;\n",
              "    }\n",
              "\n",
              "    .dataframe thead th {\n",
              "        text-align: right;\n",
              "    }\n",
              "</style>\n",
              "<table border=\"1\" class=\"dataframe\">\n",
              "  <thead>\n",
              "    <tr style=\"text-align: right;\">\n",
              "      <th></th>\n",
              "      <th>id</th>\n",
              "      <th>timestamp</th>\n",
              "      <th>temperature</th>\n",
              "    </tr>\n",
              "  </thead>\n",
              "  <tbody>\n",
              "    <tr>\n",
              "      <th>0</th>\n",
              "      <td>d1ca1ef8-0eac-42fc-af80-97106efc7b13</td>\n",
              "      <td>2022-03-07 15:55:20</td>\n",
              "      <td>2.96</td>\n",
              "    </tr>\n",
              "    <tr>\n",
              "      <th>1</th>\n",
              "      <td>4b8a66c4-0f3a-4f16-826f-8cf9397e9d18</td>\n",
              "      <td>2022-03-01 09:18:22</td>\n",
              "      <td>1.88</td>\n",
              "    </tr>\n",
              "    <tr>\n",
              "      <th>2</th>\n",
              "      <td>3d47a0c7-1e72-4512-812f-b6b5d8428cf3</td>\n",
              "      <td>2022-03-04 15:12:26</td>\n",
              "      <td>1.78</td>\n",
              "    </tr>\n",
              "    <tr>\n",
              "      <th>3</th>\n",
              "      <td>9500357b-ce15-424a-837a-7677b386f471</td>\n",
              "      <td>2022-03-02 12:30:42</td>\n",
              "      <td>2.18</td>\n",
              "    </tr>\n",
              "    <tr>\n",
              "      <th>4</th>\n",
              "      <td>c4b61fec-99c2-4c6d-8e5d-4edd8c9632fa</td>\n",
              "      <td>2022-03-05 09:09:33</td>\n",
              "      <td>1.38</td>\n",
              "    </tr>\n",
              "  </tbody>\n",
              "</table>\n",
              "</div>"
            ],
            "text/plain": [
              "                                     id            timestamp  temperature\n",
              "0  d1ca1ef8-0eac-42fc-af80-97106efc7b13  2022-03-07 15:55:20         2.96\n",
              "1  4b8a66c4-0f3a-4f16-826f-8cf9397e9d18  2022-03-01 09:18:22         1.88\n",
              "2  3d47a0c7-1e72-4512-812f-b6b5d8428cf3  2022-03-04 15:12:26         1.78\n",
              "3  9500357b-ce15-424a-837a-7677b386f471  2022-03-02 12:30:42         2.18\n",
              "4  c4b61fec-99c2-4c6d-8e5d-4edd8c9632fa  2022-03-05 09:09:33         1.38"
            ]
          },
          "execution_count": 51,
          "metadata": {},
          "output_type": "execute_result"
        }
      ],
      "source": [
        "temp_df = pd.read_csv(f\"{path}sensor_storage_temperature.csv\")\n",
        "temp_df.drop(columns=[\"Unnamed: 0\"], inplace=True, errors='ignore')\n",
        "temp_df.head()"
      ]
    },
    {
      "attachments": {},
      "cell_type": "markdown",
      "metadata": {
        "id": "bAd1UwJYbAt4"
      },
      "source": [
        "---\n",
        "## Section 3: Clean the data"
      ]
    },
    {
      "cell_type": "code",
      "execution_count": 52,
      "metadata": {},
      "outputs": [
        {
          "name": "stdout",
          "output_type": "stream",
          "text": [
            "<class 'pandas.core.frame.DataFrame'>\n",
            "RangeIndex: 15000 entries, 0 to 14999\n",
            "Data columns (total 4 columns):\n",
            " #   Column               Non-Null Count  Dtype  \n",
            "---  ------               --------------  -----  \n",
            " 0   id                   15000 non-null  object \n",
            " 1   timestamp            15000 non-null  object \n",
            " 2   product_id           15000 non-null  object \n",
            " 3   estimated_stock_pct  15000 non-null  float64\n",
            "dtypes: float64(1), object(3)\n",
            "memory usage: 468.9+ KB\n"
          ]
        }
      ],
      "source": [
        "stock_df.info()"
      ]
    },
    {
      "cell_type": "code",
      "execution_count": 53,
      "metadata": {},
      "outputs": [
        {
          "data": {
            "text/html": [
              "<div>\n",
              "<style scoped>\n",
              "    .dataframe tbody tr th:only-of-type {\n",
              "        vertical-align: middle;\n",
              "    }\n",
              "\n",
              "    .dataframe tbody tr th {\n",
              "        vertical-align: top;\n",
              "    }\n",
              "\n",
              "    .dataframe thead th {\n",
              "        text-align: right;\n",
              "    }\n",
              "</style>\n",
              "<table border=\"1\" class=\"dataframe\">\n",
              "  <thead>\n",
              "    <tr style=\"text-align: right;\">\n",
              "      <th></th>\n",
              "      <th>estimated_stock_pct</th>\n",
              "    </tr>\n",
              "  </thead>\n",
              "  <tbody>\n",
              "    <tr>\n",
              "      <th>count</th>\n",
              "      <td>15000.000000</td>\n",
              "    </tr>\n",
              "    <tr>\n",
              "      <th>mean</th>\n",
              "      <td>0.502735</td>\n",
              "    </tr>\n",
              "    <tr>\n",
              "      <th>std</th>\n",
              "      <td>0.286842</td>\n",
              "    </tr>\n",
              "    <tr>\n",
              "      <th>min</th>\n",
              "      <td>0.010000</td>\n",
              "    </tr>\n",
              "    <tr>\n",
              "      <th>25%</th>\n",
              "      <td>0.260000</td>\n",
              "    </tr>\n",
              "    <tr>\n",
              "      <th>50%</th>\n",
              "      <td>0.500000</td>\n",
              "    </tr>\n",
              "    <tr>\n",
              "      <th>75%</th>\n",
              "      <td>0.750000</td>\n",
              "    </tr>\n",
              "    <tr>\n",
              "      <th>max</th>\n",
              "      <td>1.000000</td>\n",
              "    </tr>\n",
              "  </tbody>\n",
              "</table>\n",
              "</div>"
            ],
            "text/plain": [
              "       estimated_stock_pct\n",
              "count         15000.000000\n",
              "mean              0.502735\n",
              "std               0.286842\n",
              "min               0.010000\n",
              "25%               0.260000\n",
              "50%               0.500000\n",
              "75%               0.750000\n",
              "max               1.000000"
            ]
          },
          "execution_count": 53,
          "metadata": {},
          "output_type": "execute_result"
        }
      ],
      "source": [
        "stock_df.describe()"
      ]
    },
    {
      "cell_type": "code",
      "execution_count": 54,
      "metadata": {},
      "outputs": [
        {
          "name": "stdout",
          "output_type": "stream",
          "text": [
            "<class 'pandas.core.frame.DataFrame'>\n",
            "RangeIndex: 7829 entries, 0 to 7828\n",
            "Data columns (total 9 columns):\n",
            " #   Column          Non-Null Count  Dtype  \n",
            "---  ------          --------------  -----  \n",
            " 0   transaction_id  7829 non-null   object \n",
            " 1   timestamp       7829 non-null   object \n",
            " 2   product_id      7829 non-null   object \n",
            " 3   category        7829 non-null   object \n",
            " 4   customer_type   7829 non-null   object \n",
            " 5   unit_price      7829 non-null   float64\n",
            " 6   quantity        7829 non-null   int64  \n",
            " 7   total           7829 non-null   float64\n",
            " 8   payment_type    7829 non-null   object \n",
            "dtypes: float64(2), int64(1), object(6)\n",
            "memory usage: 550.6+ KB\n"
          ]
        }
      ],
      "source": [
        "sales_df.info()"
      ]
    },
    {
      "cell_type": "code",
      "execution_count": 55,
      "metadata": {},
      "outputs": [
        {
          "data": {
            "text/html": [
              "<div>\n",
              "<style scoped>\n",
              "    .dataframe tbody tr th:only-of-type {\n",
              "        vertical-align: middle;\n",
              "    }\n",
              "\n",
              "    .dataframe tbody tr th {\n",
              "        vertical-align: top;\n",
              "    }\n",
              "\n",
              "    .dataframe thead th {\n",
              "        text-align: right;\n",
              "    }\n",
              "</style>\n",
              "<table border=\"1\" class=\"dataframe\">\n",
              "  <thead>\n",
              "    <tr style=\"text-align: right;\">\n",
              "      <th></th>\n",
              "      <th>unit_price</th>\n",
              "      <th>quantity</th>\n",
              "      <th>total</th>\n",
              "    </tr>\n",
              "  </thead>\n",
              "  <tbody>\n",
              "    <tr>\n",
              "      <th>count</th>\n",
              "      <td>7829.000000</td>\n",
              "      <td>7829.000000</td>\n",
              "      <td>7829.000000</td>\n",
              "    </tr>\n",
              "    <tr>\n",
              "      <th>mean</th>\n",
              "      <td>7.819480</td>\n",
              "      <td>2.501597</td>\n",
              "      <td>19.709905</td>\n",
              "    </tr>\n",
              "    <tr>\n",
              "      <th>std</th>\n",
              "      <td>5.388088</td>\n",
              "      <td>1.122722</td>\n",
              "      <td>17.446680</td>\n",
              "    </tr>\n",
              "    <tr>\n",
              "      <th>min</th>\n",
              "      <td>0.190000</td>\n",
              "      <td>1.000000</td>\n",
              "      <td>0.190000</td>\n",
              "    </tr>\n",
              "    <tr>\n",
              "      <th>25%</th>\n",
              "      <td>3.990000</td>\n",
              "      <td>1.000000</td>\n",
              "      <td>6.570000</td>\n",
              "    </tr>\n",
              "    <tr>\n",
              "      <th>50%</th>\n",
              "      <td>7.190000</td>\n",
              "      <td>3.000000</td>\n",
              "      <td>14.970000</td>\n",
              "    </tr>\n",
              "    <tr>\n",
              "      <th>75%</th>\n",
              "      <td>11.190000</td>\n",
              "      <td>4.000000</td>\n",
              "      <td>28.470000</td>\n",
              "    </tr>\n",
              "    <tr>\n",
              "      <th>max</th>\n",
              "      <td>23.990000</td>\n",
              "      <td>4.000000</td>\n",
              "      <td>95.960000</td>\n",
              "    </tr>\n",
              "  </tbody>\n",
              "</table>\n",
              "</div>"
            ],
            "text/plain": [
              "        unit_price     quantity        total\n",
              "count  7829.000000  7829.000000  7829.000000\n",
              "mean      7.819480     2.501597    19.709905\n",
              "std       5.388088     1.122722    17.446680\n",
              "min       0.190000     1.000000     0.190000\n",
              "25%       3.990000     1.000000     6.570000\n",
              "50%       7.190000     3.000000    14.970000\n",
              "75%      11.190000     4.000000    28.470000\n",
              "max      23.990000     4.000000    95.960000"
            ]
          },
          "execution_count": 55,
          "metadata": {},
          "output_type": "execute_result"
        }
      ],
      "source": [
        "sales_df.describe()"
      ]
    },
    {
      "cell_type": "code",
      "execution_count": 56,
      "metadata": {},
      "outputs": [
        {
          "name": "stdout",
          "output_type": "stream",
          "text": [
            "<class 'pandas.core.frame.DataFrame'>\n",
            "RangeIndex: 23890 entries, 0 to 23889\n",
            "Data columns (total 3 columns):\n",
            " #   Column       Non-Null Count  Dtype  \n",
            "---  ------       --------------  -----  \n",
            " 0   id           23890 non-null  object \n",
            " 1   timestamp    23890 non-null  object \n",
            " 2   temperature  23890 non-null  float64\n",
            "dtypes: float64(1), object(2)\n",
            "memory usage: 560.0+ KB\n"
          ]
        }
      ],
      "source": [
        "temp_df.info()"
      ]
    },
    {
      "cell_type": "code",
      "execution_count": 57,
      "metadata": {},
      "outputs": [
        {
          "data": {
            "text/html": [
              "<div>\n",
              "<style scoped>\n",
              "    .dataframe tbody tr th:only-of-type {\n",
              "        vertical-align: middle;\n",
              "    }\n",
              "\n",
              "    .dataframe tbody tr th {\n",
              "        vertical-align: top;\n",
              "    }\n",
              "\n",
              "    .dataframe thead th {\n",
              "        text-align: right;\n",
              "    }\n",
              "</style>\n",
              "<table border=\"1\" class=\"dataframe\">\n",
              "  <thead>\n",
              "    <tr style=\"text-align: right;\">\n",
              "      <th></th>\n",
              "      <th>temperature</th>\n",
              "    </tr>\n",
              "  </thead>\n",
              "  <tbody>\n",
              "    <tr>\n",
              "      <th>count</th>\n",
              "      <td>23890.000000</td>\n",
              "    </tr>\n",
              "    <tr>\n",
              "      <th>mean</th>\n",
              "      <td>-0.207075</td>\n",
              "    </tr>\n",
              "    <tr>\n",
              "      <th>std</th>\n",
              "      <td>11.217649</td>\n",
              "    </tr>\n",
              "    <tr>\n",
              "      <th>min</th>\n",
              "      <td>-30.990000</td>\n",
              "    </tr>\n",
              "    <tr>\n",
              "      <th>25%</th>\n",
              "      <td>-2.860000</td>\n",
              "    </tr>\n",
              "    <tr>\n",
              "      <th>50%</th>\n",
              "      <td>-1.000000</td>\n",
              "    </tr>\n",
              "    <tr>\n",
              "      <th>75%</th>\n",
              "      <td>1.840000</td>\n",
              "    </tr>\n",
              "    <tr>\n",
              "      <th>max</th>\n",
              "      <td>34.990000</td>\n",
              "    </tr>\n",
              "  </tbody>\n",
              "</table>\n",
              "</div>"
            ],
            "text/plain": [
              "        temperature\n",
              "count  23890.000000\n",
              "mean      -0.207075\n",
              "std       11.217649\n",
              "min      -30.990000\n",
              "25%       -2.860000\n",
              "50%       -1.000000\n",
              "75%        1.840000\n",
              "max       34.990000"
            ]
          },
          "execution_count": 57,
          "metadata": {},
          "output_type": "execute_result"
        }
      ],
      "source": [
        "temp_df.describe()"
      ]
    },
    {
      "attachments": {},
      "cell_type": "markdown",
      "metadata": {},
      "source": [
        "Everything looks fine apart from `timestamp` having the wrong data type."
      ]
    },
    {
      "cell_type": "code",
      "execution_count": 58,
      "metadata": {},
      "outputs": [
        {
          "name": "stdout",
          "output_type": "stream",
          "text": [
            "<class 'pandas.core.frame.DataFrame'>\n",
            "RangeIndex: 15000 entries, 0 to 14999\n",
            "Data columns (total 4 columns):\n",
            " #   Column               Non-Null Count  Dtype         \n",
            "---  ------               --------------  -----         \n",
            " 0   id                   15000 non-null  object        \n",
            " 1   timestamp            15000 non-null  datetime64[ns]\n",
            " 2   product_id           15000 non-null  object        \n",
            " 3   estimated_stock_pct  15000 non-null  float64       \n",
            "dtypes: datetime64[ns](1), float64(1), object(2)\n",
            "memory usage: 468.9+ KB\n"
          ]
        }
      ],
      "source": [
        "for df in [stock_df,temp_df,sales_df]:\n",
        "    df['timestamp'] = pd.to_datetime(df['timestamp'])\n",
        "\n",
        "stock_df.info()"
      ]
    },
    {
      "cell_type": "code",
      "execution_count": 59,
      "metadata": {},
      "outputs": [
        {
          "name": "stdout",
          "output_type": "stream",
          "text": [
            "<class 'pandas.core.frame.DataFrame'>\n",
            "RangeIndex: 7829 entries, 0 to 7828\n",
            "Data columns (total 9 columns):\n",
            " #   Column          Non-Null Count  Dtype         \n",
            "---  ------          --------------  -----         \n",
            " 0   transaction_id  7829 non-null   object        \n",
            " 1   timestamp       7829 non-null   datetime64[ns]\n",
            " 2   product_id      7829 non-null   object        \n",
            " 3   category        7829 non-null   object        \n",
            " 4   customer_type   7829 non-null   object        \n",
            " 5   unit_price      7829 non-null   float64       \n",
            " 6   quantity        7829 non-null   int64         \n",
            " 7   total           7829 non-null   float64       \n",
            " 8   payment_type    7829 non-null   object        \n",
            "dtypes: datetime64[ns](1), float64(2), int64(1), object(5)\n",
            "memory usage: 550.6+ KB\n"
          ]
        }
      ],
      "source": [
        "sales_df.info()"
      ]
    },
    {
      "cell_type": "code",
      "execution_count": 60,
      "metadata": {},
      "outputs": [
        {
          "name": "stdout",
          "output_type": "stream",
          "text": [
            "<class 'pandas.core.frame.DataFrame'>\n",
            "RangeIndex: 23890 entries, 0 to 23889\n",
            "Data columns (total 3 columns):\n",
            " #   Column       Non-Null Count  Dtype         \n",
            "---  ------       --------------  -----         \n",
            " 0   id           23890 non-null  object        \n",
            " 1   timestamp    23890 non-null  datetime64[ns]\n",
            " 2   temperature  23890 non-null  float64       \n",
            "dtypes: datetime64[ns](1), float64(1), object(1)\n",
            "memory usage: 560.0+ KB\n"
          ]
        }
      ],
      "source": [
        "temp_df.info()"
      ]
    },
    {
      "attachments": {},
      "cell_type": "markdown",
      "metadata": {},
      "source": [
        "---\n",
        "### Section 4:: Merge the data\n",
        "\n",
        "The only common column between all the dataframes is `timestamp`. Since the client wants to predict stock levels on hourly basis we will transform the `timestamp` column to be based on the hour of the day. "
      ]
    },
    {
      "cell_type": "code",
      "execution_count": 61,
      "metadata": {},
      "outputs": [],
      "source": [
        "from datetime import datetime\n",
        "\n",
        "def convert_timestamp_to_hourly(data: pd.DataFrame = None):\n",
        "  dummy = data.copy()\n",
        "  new_ts = dummy['timestamp'].tolist()\n",
        "  new_ts = [i.strftime('%Y-%m-%d %H:00:00') for i in new_ts]\n",
        "  new_ts = [datetime.strptime(i, '%Y-%m-%d %H:00:00') for i in new_ts]\n",
        "  dummy['timestamp'] = new_ts\n",
        "  return dummy"
      ]
    },
    {
      "cell_type": "code",
      "execution_count": 62,
      "metadata": {},
      "outputs": [
        {
          "data": {
            "text/html": [
              "<div>\n",
              "<style scoped>\n",
              "    .dataframe tbody tr th:only-of-type {\n",
              "        vertical-align: middle;\n",
              "    }\n",
              "\n",
              "    .dataframe tbody tr th {\n",
              "        vertical-align: top;\n",
              "    }\n",
              "\n",
              "    .dataframe thead th {\n",
              "        text-align: right;\n",
              "    }\n",
              "</style>\n",
              "<table border=\"1\" class=\"dataframe\">\n",
              "  <thead>\n",
              "    <tr style=\"text-align: right;\">\n",
              "      <th></th>\n",
              "      <th>id</th>\n",
              "      <th>timestamp</th>\n",
              "      <th>product_id</th>\n",
              "      <th>estimated_stock_pct</th>\n",
              "    </tr>\n",
              "  </thead>\n",
              "  <tbody>\n",
              "    <tr>\n",
              "      <th>0</th>\n",
              "      <td>4220e505-c247-478d-9831-6b9f87a4488a</td>\n",
              "      <td>2022-03-07 12:00:00</td>\n",
              "      <td>f658605e-75f3-4fed-a655-c0903f344427</td>\n",
              "      <td>0.75</td>\n",
              "    </tr>\n",
              "    <tr>\n",
              "      <th>1</th>\n",
              "      <td>f2612b26-fc82-49ea-8940-0751fdd4d9ef</td>\n",
              "      <td>2022-03-07 16:00:00</td>\n",
              "      <td>de06083a-f5c0-451d-b2f4-9ab88b52609d</td>\n",
              "      <td>0.48</td>\n",
              "    </tr>\n",
              "    <tr>\n",
              "      <th>2</th>\n",
              "      <td>989a287f-67e6-4478-aa49-c3a35dac0e2e</td>\n",
              "      <td>2022-03-01 18:00:00</td>\n",
              "      <td>ce8f3a04-d1a4-43b1-a7c2-fa1b8e7674c8</td>\n",
              "      <td>0.58</td>\n",
              "    </tr>\n",
              "    <tr>\n",
              "      <th>3</th>\n",
              "      <td>af8e5683-d247-46ac-9909-1a77bdebefb2</td>\n",
              "      <td>2022-03-02 14:00:00</td>\n",
              "      <td>c21e3ba9-92a3-4745-92c2-6faef73223f7</td>\n",
              "      <td>0.79</td>\n",
              "    </tr>\n",
              "    <tr>\n",
              "      <th>4</th>\n",
              "      <td>08a32247-3f44-4002-85fb-c198434dd4bb</td>\n",
              "      <td>2022-03-02 13:00:00</td>\n",
              "      <td>7f478817-aa5b-44e9-9059-8045228c9eb0</td>\n",
              "      <td>0.22</td>\n",
              "    </tr>\n",
              "  </tbody>\n",
              "</table>\n",
              "</div>"
            ],
            "text/plain": [
              "                                     id           timestamp  \\\n",
              "0  4220e505-c247-478d-9831-6b9f87a4488a 2022-03-07 12:00:00   \n",
              "1  f2612b26-fc82-49ea-8940-0751fdd4d9ef 2022-03-07 16:00:00   \n",
              "2  989a287f-67e6-4478-aa49-c3a35dac0e2e 2022-03-01 18:00:00   \n",
              "3  af8e5683-d247-46ac-9909-1a77bdebefb2 2022-03-02 14:00:00   \n",
              "4  08a32247-3f44-4002-85fb-c198434dd4bb 2022-03-02 13:00:00   \n",
              "\n",
              "                             product_id  estimated_stock_pct  \n",
              "0  f658605e-75f3-4fed-a655-c0903f344427                 0.75  \n",
              "1  de06083a-f5c0-451d-b2f4-9ab88b52609d                 0.48  \n",
              "2  ce8f3a04-d1a4-43b1-a7c2-fa1b8e7674c8                 0.58  \n",
              "3  c21e3ba9-92a3-4745-92c2-6faef73223f7                 0.79  \n",
              "4  7f478817-aa5b-44e9-9059-8045228c9eb0                 0.22  "
            ]
          },
          "execution_count": 62,
          "metadata": {},
          "output_type": "execute_result"
        }
      ],
      "source": [
        "stock_df = convert_timestamp_to_hourly(stock_df)\n",
        "stock_df.head()"
      ]
    },
    {
      "cell_type": "code",
      "execution_count": 63,
      "metadata": {},
      "outputs": [
        {
          "data": {
            "text/html": [
              "<div>\n",
              "<style scoped>\n",
              "    .dataframe tbody tr th:only-of-type {\n",
              "        vertical-align: middle;\n",
              "    }\n",
              "\n",
              "    .dataframe tbody tr th {\n",
              "        vertical-align: top;\n",
              "    }\n",
              "\n",
              "    .dataframe thead th {\n",
              "        text-align: right;\n",
              "    }\n",
              "</style>\n",
              "<table border=\"1\" class=\"dataframe\">\n",
              "  <thead>\n",
              "    <tr style=\"text-align: right;\">\n",
              "      <th></th>\n",
              "      <th>id</th>\n",
              "      <th>timestamp</th>\n",
              "      <th>temperature</th>\n",
              "    </tr>\n",
              "  </thead>\n",
              "  <tbody>\n",
              "    <tr>\n",
              "      <th>0</th>\n",
              "      <td>d1ca1ef8-0eac-42fc-af80-97106efc7b13</td>\n",
              "      <td>2022-03-07 15:00:00</td>\n",
              "      <td>2.96</td>\n",
              "    </tr>\n",
              "    <tr>\n",
              "      <th>1</th>\n",
              "      <td>4b8a66c4-0f3a-4f16-826f-8cf9397e9d18</td>\n",
              "      <td>2022-03-01 09:00:00</td>\n",
              "      <td>1.88</td>\n",
              "    </tr>\n",
              "    <tr>\n",
              "      <th>2</th>\n",
              "      <td>3d47a0c7-1e72-4512-812f-b6b5d8428cf3</td>\n",
              "      <td>2022-03-04 15:00:00</td>\n",
              "      <td>1.78</td>\n",
              "    </tr>\n",
              "    <tr>\n",
              "      <th>3</th>\n",
              "      <td>9500357b-ce15-424a-837a-7677b386f471</td>\n",
              "      <td>2022-03-02 12:00:00</td>\n",
              "      <td>2.18</td>\n",
              "    </tr>\n",
              "    <tr>\n",
              "      <th>4</th>\n",
              "      <td>c4b61fec-99c2-4c6d-8e5d-4edd8c9632fa</td>\n",
              "      <td>2022-03-05 09:00:00</td>\n",
              "      <td>1.38</td>\n",
              "    </tr>\n",
              "  </tbody>\n",
              "</table>\n",
              "</div>"
            ],
            "text/plain": [
              "                                     id           timestamp  temperature\n",
              "0  d1ca1ef8-0eac-42fc-af80-97106efc7b13 2022-03-07 15:00:00         2.96\n",
              "1  4b8a66c4-0f3a-4f16-826f-8cf9397e9d18 2022-03-01 09:00:00         1.88\n",
              "2  3d47a0c7-1e72-4512-812f-b6b5d8428cf3 2022-03-04 15:00:00         1.78\n",
              "3  9500357b-ce15-424a-837a-7677b386f471 2022-03-02 12:00:00         2.18\n",
              "4  c4b61fec-99c2-4c6d-8e5d-4edd8c9632fa 2022-03-05 09:00:00         1.38"
            ]
          },
          "execution_count": 63,
          "metadata": {},
          "output_type": "execute_result"
        }
      ],
      "source": [
        "temp_df = convert_timestamp_to_hourly(temp_df)\n",
        "temp_df.head()"
      ]
    },
    {
      "cell_type": "code",
      "execution_count": 64,
      "metadata": {},
      "outputs": [
        {
          "data": {
            "text/html": [
              "<div>\n",
              "<style scoped>\n",
              "    .dataframe tbody tr th:only-of-type {\n",
              "        vertical-align: middle;\n",
              "    }\n",
              "\n",
              "    .dataframe tbody tr th {\n",
              "        vertical-align: top;\n",
              "    }\n",
              "\n",
              "    .dataframe thead th {\n",
              "        text-align: right;\n",
              "    }\n",
              "</style>\n",
              "<table border=\"1\" class=\"dataframe\">\n",
              "  <thead>\n",
              "    <tr style=\"text-align: right;\">\n",
              "      <th></th>\n",
              "      <th>transaction_id</th>\n",
              "      <th>timestamp</th>\n",
              "      <th>product_id</th>\n",
              "      <th>category</th>\n",
              "      <th>customer_type</th>\n",
              "      <th>unit_price</th>\n",
              "      <th>quantity</th>\n",
              "      <th>total</th>\n",
              "      <th>payment_type</th>\n",
              "    </tr>\n",
              "  </thead>\n",
              "  <tbody>\n",
              "    <tr>\n",
              "      <th>0</th>\n",
              "      <td>a1c82654-c52c-45b3-8ce8-4c2a1efe63ed</td>\n",
              "      <td>2022-03-02 09:00:00</td>\n",
              "      <td>3bc6c1ea-0198-46de-9ffd-514ae3338713</td>\n",
              "      <td>fruit</td>\n",
              "      <td>gold</td>\n",
              "      <td>3.99</td>\n",
              "      <td>2</td>\n",
              "      <td>7.98</td>\n",
              "      <td>e-wallet</td>\n",
              "    </tr>\n",
              "    <tr>\n",
              "      <th>1</th>\n",
              "      <td>931ad550-09e8-4da6-beaa-8c9d17be9c60</td>\n",
              "      <td>2022-03-06 10:00:00</td>\n",
              "      <td>ad81b46c-bf38-41cf-9b54-5fe7f5eba93e</td>\n",
              "      <td>fruit</td>\n",
              "      <td>standard</td>\n",
              "      <td>3.99</td>\n",
              "      <td>1</td>\n",
              "      <td>3.99</td>\n",
              "      <td>e-wallet</td>\n",
              "    </tr>\n",
              "    <tr>\n",
              "      <th>2</th>\n",
              "      <td>ae133534-6f61-4cd6-b6b8-d1c1d8d90aea</td>\n",
              "      <td>2022-03-04 17:00:00</td>\n",
              "      <td>7c55cbd4-f306-4c04-a030-628cbe7867c1</td>\n",
              "      <td>fruit</td>\n",
              "      <td>premium</td>\n",
              "      <td>0.19</td>\n",
              "      <td>2</td>\n",
              "      <td>0.38</td>\n",
              "      <td>e-wallet</td>\n",
              "    </tr>\n",
              "    <tr>\n",
              "      <th>3</th>\n",
              "      <td>157cebd9-aaf0-475d-8a11-7c8e0f5b76e4</td>\n",
              "      <td>2022-03-02 17:00:00</td>\n",
              "      <td>80da8348-1707-403f-8be7-9e6deeccc883</td>\n",
              "      <td>fruit</td>\n",
              "      <td>gold</td>\n",
              "      <td>0.19</td>\n",
              "      <td>4</td>\n",
              "      <td>0.76</td>\n",
              "      <td>e-wallet</td>\n",
              "    </tr>\n",
              "    <tr>\n",
              "      <th>4</th>\n",
              "      <td>a81a6cd3-5e0c-44a2-826c-aea43e46c514</td>\n",
              "      <td>2022-03-05 14:00:00</td>\n",
              "      <td>7f5e86e6-f06f-45f6-bf44-27b095c9ad1d</td>\n",
              "      <td>fruit</td>\n",
              "      <td>basic</td>\n",
              "      <td>4.49</td>\n",
              "      <td>2</td>\n",
              "      <td>8.98</td>\n",
              "      <td>debit card</td>\n",
              "    </tr>\n",
              "  </tbody>\n",
              "</table>\n",
              "</div>"
            ],
            "text/plain": [
              "                         transaction_id           timestamp  \\\n",
              "0  a1c82654-c52c-45b3-8ce8-4c2a1efe63ed 2022-03-02 09:00:00   \n",
              "1  931ad550-09e8-4da6-beaa-8c9d17be9c60 2022-03-06 10:00:00   \n",
              "2  ae133534-6f61-4cd6-b6b8-d1c1d8d90aea 2022-03-04 17:00:00   \n",
              "3  157cebd9-aaf0-475d-8a11-7c8e0f5b76e4 2022-03-02 17:00:00   \n",
              "4  a81a6cd3-5e0c-44a2-826c-aea43e46c514 2022-03-05 14:00:00   \n",
              "\n",
              "                             product_id category customer_type  unit_price  \\\n",
              "0  3bc6c1ea-0198-46de-9ffd-514ae3338713    fruit          gold        3.99   \n",
              "1  ad81b46c-bf38-41cf-9b54-5fe7f5eba93e    fruit      standard        3.99   \n",
              "2  7c55cbd4-f306-4c04-a030-628cbe7867c1    fruit       premium        0.19   \n",
              "3  80da8348-1707-403f-8be7-9e6deeccc883    fruit          gold        0.19   \n",
              "4  7f5e86e6-f06f-45f6-bf44-27b095c9ad1d    fruit         basic        4.49   \n",
              "\n",
              "   quantity  total payment_type  \n",
              "0         2   7.98     e-wallet  \n",
              "1         1   3.99     e-wallet  \n",
              "2         2   0.38     e-wallet  \n",
              "3         4   0.76     e-wallet  \n",
              "4         2   8.98   debit card  "
            ]
          },
          "execution_count": 64,
          "metadata": {},
          "output_type": "execute_result"
        }
      ],
      "source": [
        "sales_df = convert_timestamp_to_hourly(sales_df)\n",
        "sales_df.head()"
      ]
    },
    {
      "attachments": {},
      "cell_type": "markdown",
      "metadata": {},
      "source": [
        "For the `sales` data, we want to group the data by `timestamp` but also by `product_id`. When we aggregate, we must choose which columns to aggregate by the grouping. For now, let's aggregate quantity."
      ]
    },
    {
      "cell_type": "code",
      "execution_count": 70,
      "metadata": {},
      "outputs": [
        {
          "data": {
            "text/html": [
              "<div>\n",
              "<style scoped>\n",
              "    .dataframe tbody tr th:only-of-type {\n",
              "        vertical-align: middle;\n",
              "    }\n",
              "\n",
              "    .dataframe tbody tr th {\n",
              "        vertical-align: top;\n",
              "    }\n",
              "\n",
              "    .dataframe thead th {\n",
              "        text-align: right;\n",
              "    }\n",
              "</style>\n",
              "<table border=\"1\" class=\"dataframe\">\n",
              "  <thead>\n",
              "    <tr style=\"text-align: right;\">\n",
              "      <th></th>\n",
              "      <th>timestamp</th>\n",
              "      <th>product_id</th>\n",
              "      <th>quantity</th>\n",
              "      <th>unit_price</th>\n",
              "    </tr>\n",
              "  </thead>\n",
              "  <tbody>\n",
              "    <tr>\n",
              "      <th>0</th>\n",
              "      <td>2022-03-01 09:00:00</td>\n",
              "      <td>00e120bb-89d6-4df5-bc48-a051148e3d03</td>\n",
              "      <td>3</td>\n",
              "      <td>11.19</td>\n",
              "    </tr>\n",
              "    <tr>\n",
              "      <th>1</th>\n",
              "      <td>2022-03-01 09:00:00</td>\n",
              "      <td>01f3cdd9-8e9e-4dff-9b5c-69698a0388d0</td>\n",
              "      <td>3</td>\n",
              "      <td>1.49</td>\n",
              "    </tr>\n",
              "    <tr>\n",
              "      <th>2</th>\n",
              "      <td>2022-03-01 09:00:00</td>\n",
              "      <td>03a2557a-aa12-4add-a6d4-77dc36342067</td>\n",
              "      <td>3</td>\n",
              "      <td>5.99</td>\n",
              "    </tr>\n",
              "    <tr>\n",
              "      <th>3</th>\n",
              "      <td>2022-03-01 09:00:00</td>\n",
              "      <td>049b2171-0eeb-4a3e-bf98-0c290c7821da</td>\n",
              "      <td>7</td>\n",
              "      <td>2.49</td>\n",
              "    </tr>\n",
              "    <tr>\n",
              "      <th>4</th>\n",
              "      <td>2022-03-01 09:00:00</td>\n",
              "      <td>04da844d-8dba-4470-9119-e534d52a03a0</td>\n",
              "      <td>11</td>\n",
              "      <td>0.49</td>\n",
              "    </tr>\n",
              "  </tbody>\n",
              "</table>\n",
              "</div>"
            ],
            "text/plain": [
              "            timestamp                            product_id  quantity  \\\n",
              "0 2022-03-01 09:00:00  00e120bb-89d6-4df5-bc48-a051148e3d03         3   \n",
              "1 2022-03-01 09:00:00  01f3cdd9-8e9e-4dff-9b5c-69698a0388d0         3   \n",
              "2 2022-03-01 09:00:00  03a2557a-aa12-4add-a6d4-77dc36342067         3   \n",
              "3 2022-03-01 09:00:00  049b2171-0eeb-4a3e-bf98-0c290c7821da         7   \n",
              "4 2022-03-01 09:00:00  04da844d-8dba-4470-9119-e534d52a03a0        11   \n",
              "\n",
              "   unit_price  \n",
              "0       11.19  \n",
              "1        1.49  \n",
              "2        5.99  \n",
              "3        2.49  \n",
              "4        0.49  "
            ]
          },
          "execution_count": 70,
          "metadata": {},
          "output_type": "execute_result"
        }
      ],
      "source": [
        "sales_agg = sales_df.groupby(['timestamp', 'product_id']).agg({'quantity': 'sum','unit_price':'mean'}).reset_index()\n",
        "sales_agg.head()"
      ]
    },
    {
      "attachments": {},
      "cell_type": "markdown",
      "metadata": {},
      "source": [
        "For the stock data, we want to group it in the same way and aggregate the `estimated_stock_pct`."
      ]
    },
    {
      "cell_type": "code",
      "execution_count": 73,
      "metadata": {},
      "outputs": [
        {
          "data": {
            "text/html": [
              "<div>\n",
              "<style scoped>\n",
              "    .dataframe tbody tr th:only-of-type {\n",
              "        vertical-align: middle;\n",
              "    }\n",
              "\n",
              "    .dataframe tbody tr th {\n",
              "        vertical-align: top;\n",
              "    }\n",
              "\n",
              "    .dataframe thead th {\n",
              "        text-align: right;\n",
              "    }\n",
              "</style>\n",
              "<table border=\"1\" class=\"dataframe\">\n",
              "  <thead>\n",
              "    <tr style=\"text-align: right;\">\n",
              "      <th></th>\n",
              "      <th>timestamp</th>\n",
              "      <th>product_id</th>\n",
              "      <th>estimated_stock_pct</th>\n",
              "    </tr>\n",
              "  </thead>\n",
              "  <tbody>\n",
              "    <tr>\n",
              "      <th>0</th>\n",
              "      <td>2022-03-01 09:00:00</td>\n",
              "      <td>00e120bb-89d6-4df5-bc48-a051148e3d03</td>\n",
              "      <td>0.89</td>\n",
              "    </tr>\n",
              "    <tr>\n",
              "      <th>1</th>\n",
              "      <td>2022-03-01 09:00:00</td>\n",
              "      <td>01f3cdd9-8e9e-4dff-9b5c-69698a0388d0</td>\n",
              "      <td>0.14</td>\n",
              "    </tr>\n",
              "    <tr>\n",
              "      <th>2</th>\n",
              "      <td>2022-03-01 09:00:00</td>\n",
              "      <td>01ff0803-ae73-4234-971d-5713c97b7f4b</td>\n",
              "      <td>0.67</td>\n",
              "    </tr>\n",
              "    <tr>\n",
              "      <th>3</th>\n",
              "      <td>2022-03-01 09:00:00</td>\n",
              "      <td>0363eb21-8c74-47e1-a216-c37e565e5ceb</td>\n",
              "      <td>0.82</td>\n",
              "    </tr>\n",
              "    <tr>\n",
              "      <th>4</th>\n",
              "      <td>2022-03-01 09:00:00</td>\n",
              "      <td>03f0b20e-3b5b-444f-bc39-cdfa2523d4bc</td>\n",
              "      <td>0.05</td>\n",
              "    </tr>\n",
              "  </tbody>\n",
              "</table>\n",
              "</div>"
            ],
            "text/plain": [
              "            timestamp                            product_id  \\\n",
              "0 2022-03-01 09:00:00  00e120bb-89d6-4df5-bc48-a051148e3d03   \n",
              "1 2022-03-01 09:00:00  01f3cdd9-8e9e-4dff-9b5c-69698a0388d0   \n",
              "2 2022-03-01 09:00:00  01ff0803-ae73-4234-971d-5713c97b7f4b   \n",
              "3 2022-03-01 09:00:00  0363eb21-8c74-47e1-a216-c37e565e5ceb   \n",
              "4 2022-03-01 09:00:00  03f0b20e-3b5b-444f-bc39-cdfa2523d4bc   \n",
              "\n",
              "   estimated_stock_pct  \n",
              "0                 0.89  \n",
              "1                 0.14  \n",
              "2                 0.67  \n",
              "3                 0.82  \n",
              "4                 0.05  "
            ]
          },
          "execution_count": 73,
          "metadata": {},
          "output_type": "execute_result"
        }
      ],
      "source": [
        "stock_agg = stock_df.groupby(['timestamp','product_id']).agg({'estimated_stock_pct':'mean'}).reset_index()\n",
        "stock_agg.head()"
      ]
    },
    {
      "attachments": {},
      "cell_type": "markdown",
      "metadata": {},
      "source": [
        "For temperature data we will group by `timestamp`."
      ]
    },
    {
      "cell_type": "code",
      "execution_count": 75,
      "metadata": {},
      "outputs": [
        {
          "data": {
            "text/html": [
              "<div>\n",
              "<style scoped>\n",
              "    .dataframe tbody tr th:only-of-type {\n",
              "        vertical-align: middle;\n",
              "    }\n",
              "\n",
              "    .dataframe tbody tr th {\n",
              "        vertical-align: top;\n",
              "    }\n",
              "\n",
              "    .dataframe thead th {\n",
              "        text-align: right;\n",
              "    }\n",
              "</style>\n",
              "<table border=\"1\" class=\"dataframe\">\n",
              "  <thead>\n",
              "    <tr style=\"text-align: right;\">\n",
              "      <th></th>\n",
              "      <th>timestamp</th>\n",
              "      <th>temperature</th>\n",
              "    </tr>\n",
              "  </thead>\n",
              "  <tbody>\n",
              "    <tr>\n",
              "      <th>0</th>\n",
              "      <td>2022-03-01 09:00:00</td>\n",
              "      <td>-0.028850</td>\n",
              "    </tr>\n",
              "    <tr>\n",
              "      <th>1</th>\n",
              "      <td>2022-03-01 10:00:00</td>\n",
              "      <td>1.284314</td>\n",
              "    </tr>\n",
              "    <tr>\n",
              "      <th>2</th>\n",
              "      <td>2022-03-01 11:00:00</td>\n",
              "      <td>-0.560000</td>\n",
              "    </tr>\n",
              "    <tr>\n",
              "      <th>3</th>\n",
              "      <td>2022-03-01 12:00:00</td>\n",
              "      <td>-0.537721</td>\n",
              "    </tr>\n",
              "    <tr>\n",
              "      <th>4</th>\n",
              "      <td>2022-03-01 13:00:00</td>\n",
              "      <td>-0.188734</td>\n",
              "    </tr>\n",
              "  </tbody>\n",
              "</table>\n",
              "</div>"
            ],
            "text/plain": [
              "            timestamp  temperature\n",
              "0 2022-03-01 09:00:00    -0.028850\n",
              "1 2022-03-01 10:00:00     1.284314\n",
              "2 2022-03-01 11:00:00    -0.560000\n",
              "3 2022-03-01 12:00:00    -0.537721\n",
              "4 2022-03-01 13:00:00    -0.188734"
            ]
          },
          "execution_count": 75,
          "metadata": {},
          "output_type": "execute_result"
        }
      ],
      "source": [
        "temp_agg = temp_df.groupby('timestamp').agg({'temperature':'mean'}).reset_index()\n",
        "temp_agg.head()"
      ]
    },
    {
      "attachments": {},
      "cell_type": "markdown",
      "metadata": {},
      "source": [
        "We are ready to merge our data."
      ]
    },
    {
      "cell_type": "code",
      "execution_count": 86,
      "metadata": {},
      "outputs": [
        {
          "data": {
            "text/html": [
              "<div>\n",
              "<style scoped>\n",
              "    .dataframe tbody tr th:only-of-type {\n",
              "        vertical-align: middle;\n",
              "    }\n",
              "\n",
              "    .dataframe tbody tr th {\n",
              "        vertical-align: top;\n",
              "    }\n",
              "\n",
              "    .dataframe thead th {\n",
              "        text-align: right;\n",
              "    }\n",
              "</style>\n",
              "<table border=\"1\" class=\"dataframe\">\n",
              "  <thead>\n",
              "    <tr style=\"text-align: right;\">\n",
              "      <th></th>\n",
              "      <th>timestamp</th>\n",
              "      <th>product_id</th>\n",
              "      <th>estimated_stock_pct</th>\n",
              "      <th>quantity</th>\n",
              "      <th>unit_price</th>\n",
              "    </tr>\n",
              "  </thead>\n",
              "  <tbody>\n",
              "    <tr>\n",
              "      <th>0</th>\n",
              "      <td>2022-03-01 09:00:00</td>\n",
              "      <td>00e120bb-89d6-4df5-bc48-a051148e3d03</td>\n",
              "      <td>0.89</td>\n",
              "      <td>3.0</td>\n",
              "      <td>11.19</td>\n",
              "    </tr>\n",
              "    <tr>\n",
              "      <th>1</th>\n",
              "      <td>2022-03-01 09:00:00</td>\n",
              "      <td>01f3cdd9-8e9e-4dff-9b5c-69698a0388d0</td>\n",
              "      <td>0.14</td>\n",
              "      <td>3.0</td>\n",
              "      <td>1.49</td>\n",
              "    </tr>\n",
              "    <tr>\n",
              "      <th>2</th>\n",
              "      <td>2022-03-01 09:00:00</td>\n",
              "      <td>01ff0803-ae73-4234-971d-5713c97b7f4b</td>\n",
              "      <td>0.67</td>\n",
              "      <td>NaN</td>\n",
              "      <td>NaN</td>\n",
              "    </tr>\n",
              "    <tr>\n",
              "      <th>3</th>\n",
              "      <td>2022-03-01 09:00:00</td>\n",
              "      <td>0363eb21-8c74-47e1-a216-c37e565e5ceb</td>\n",
              "      <td>0.82</td>\n",
              "      <td>NaN</td>\n",
              "      <td>NaN</td>\n",
              "    </tr>\n",
              "    <tr>\n",
              "      <th>4</th>\n",
              "      <td>2022-03-01 09:00:00</td>\n",
              "      <td>03f0b20e-3b5b-444f-bc39-cdfa2523d4bc</td>\n",
              "      <td>0.05</td>\n",
              "      <td>NaN</td>\n",
              "      <td>NaN</td>\n",
              "    </tr>\n",
              "  </tbody>\n",
              "</table>\n",
              "</div>"
            ],
            "text/plain": [
              "            timestamp                            product_id  \\\n",
              "0 2022-03-01 09:00:00  00e120bb-89d6-4df5-bc48-a051148e3d03   \n",
              "1 2022-03-01 09:00:00  01f3cdd9-8e9e-4dff-9b5c-69698a0388d0   \n",
              "2 2022-03-01 09:00:00  01ff0803-ae73-4234-971d-5713c97b7f4b   \n",
              "3 2022-03-01 09:00:00  0363eb21-8c74-47e1-a216-c37e565e5ceb   \n",
              "4 2022-03-01 09:00:00  03f0b20e-3b5b-444f-bc39-cdfa2523d4bc   \n",
              "\n",
              "   estimated_stock_pct  quantity  unit_price  \n",
              "0                 0.89       3.0       11.19  \n",
              "1                 0.14       3.0        1.49  \n",
              "2                 0.67       NaN         NaN  \n",
              "3                 0.82       NaN         NaN  \n",
              "4                 0.05       NaN         NaN  "
            ]
          },
          "execution_count": 86,
          "metadata": {},
          "output_type": "execute_result"
        }
      ],
      "source": [
        "merge_df = stock_agg.merge(sales_agg,on=['timestamp','product_id'],how='left')\n",
        "merge_df.head()"
      ]
    },
    {
      "cell_type": "code",
      "execution_count": 87,
      "metadata": {},
      "outputs": [
        {
          "data": {
            "text/html": [
              "<div>\n",
              "<style scoped>\n",
              "    .dataframe tbody tr th:only-of-type {\n",
              "        vertical-align: middle;\n",
              "    }\n",
              "\n",
              "    .dataframe tbody tr th {\n",
              "        vertical-align: top;\n",
              "    }\n",
              "\n",
              "    .dataframe thead th {\n",
              "        text-align: right;\n",
              "    }\n",
              "</style>\n",
              "<table border=\"1\" class=\"dataframe\">\n",
              "  <thead>\n",
              "    <tr style=\"text-align: right;\">\n",
              "      <th></th>\n",
              "      <th>timestamp</th>\n",
              "      <th>product_id</th>\n",
              "      <th>estimated_stock_pct</th>\n",
              "      <th>quantity</th>\n",
              "      <th>unit_price</th>\n",
              "      <th>temperature</th>\n",
              "    </tr>\n",
              "  </thead>\n",
              "  <tbody>\n",
              "    <tr>\n",
              "      <th>0</th>\n",
              "      <td>2022-03-01 09:00:00</td>\n",
              "      <td>00e120bb-89d6-4df5-bc48-a051148e3d03</td>\n",
              "      <td>0.89</td>\n",
              "      <td>3.0</td>\n",
              "      <td>11.19</td>\n",
              "      <td>-0.02885</td>\n",
              "    </tr>\n",
              "    <tr>\n",
              "      <th>1</th>\n",
              "      <td>2022-03-01 09:00:00</td>\n",
              "      <td>01f3cdd9-8e9e-4dff-9b5c-69698a0388d0</td>\n",
              "      <td>0.14</td>\n",
              "      <td>3.0</td>\n",
              "      <td>1.49</td>\n",
              "      <td>-0.02885</td>\n",
              "    </tr>\n",
              "    <tr>\n",
              "      <th>2</th>\n",
              "      <td>2022-03-01 09:00:00</td>\n",
              "      <td>01ff0803-ae73-4234-971d-5713c97b7f4b</td>\n",
              "      <td>0.67</td>\n",
              "      <td>NaN</td>\n",
              "      <td>NaN</td>\n",
              "      <td>-0.02885</td>\n",
              "    </tr>\n",
              "    <tr>\n",
              "      <th>3</th>\n",
              "      <td>2022-03-01 09:00:00</td>\n",
              "      <td>0363eb21-8c74-47e1-a216-c37e565e5ceb</td>\n",
              "      <td>0.82</td>\n",
              "      <td>NaN</td>\n",
              "      <td>NaN</td>\n",
              "      <td>-0.02885</td>\n",
              "    </tr>\n",
              "    <tr>\n",
              "      <th>4</th>\n",
              "      <td>2022-03-01 09:00:00</td>\n",
              "      <td>03f0b20e-3b5b-444f-bc39-cdfa2523d4bc</td>\n",
              "      <td>0.05</td>\n",
              "      <td>NaN</td>\n",
              "      <td>NaN</td>\n",
              "      <td>-0.02885</td>\n",
              "    </tr>\n",
              "  </tbody>\n",
              "</table>\n",
              "</div>"
            ],
            "text/plain": [
              "            timestamp                            product_id  \\\n",
              "0 2022-03-01 09:00:00  00e120bb-89d6-4df5-bc48-a051148e3d03   \n",
              "1 2022-03-01 09:00:00  01f3cdd9-8e9e-4dff-9b5c-69698a0388d0   \n",
              "2 2022-03-01 09:00:00  01ff0803-ae73-4234-971d-5713c97b7f4b   \n",
              "3 2022-03-01 09:00:00  0363eb21-8c74-47e1-a216-c37e565e5ceb   \n",
              "4 2022-03-01 09:00:00  03f0b20e-3b5b-444f-bc39-cdfa2523d4bc   \n",
              "\n",
              "   estimated_stock_pct  quantity  unit_price  temperature  \n",
              "0                 0.89       3.0       11.19     -0.02885  \n",
              "1                 0.14       3.0        1.49     -0.02885  \n",
              "2                 0.67       NaN         NaN     -0.02885  \n",
              "3                 0.82       NaN         NaN     -0.02885  \n",
              "4                 0.05       NaN         NaN     -0.02885  "
            ]
          },
          "execution_count": 87,
          "metadata": {},
          "output_type": "execute_result"
        }
      ],
      "source": [
        "merge_df = merge_df.merge(temp_agg,on='timestamp',how='left')\n",
        "merge_df.head()"
      ]
    },
    {
      "cell_type": "code",
      "execution_count": 88,
      "metadata": {},
      "outputs": [
        {
          "name": "stdout",
          "output_type": "stream",
          "text": [
            "<class 'pandas.core.frame.DataFrame'>\n",
            "Int64Index: 10845 entries, 0 to 10844\n",
            "Data columns (total 6 columns):\n",
            " #   Column               Non-Null Count  Dtype         \n",
            "---  ------               --------------  -----         \n",
            " 0   timestamp            10845 non-null  datetime64[ns]\n",
            " 1   product_id           10845 non-null  object        \n",
            " 2   estimated_stock_pct  10845 non-null  float64       \n",
            " 3   quantity             3067 non-null   float64       \n",
            " 4   unit_price           3067 non-null   float64       \n",
            " 5   temperature          10845 non-null  float64       \n",
            "dtypes: datetime64[ns](1), float64(4), object(1)\n",
            "memory usage: 593.1+ KB\n"
          ]
        }
      ],
      "source": [
        "merge_df.info()"
      ]
    },
    {
      "attachments": {},
      "cell_type": "markdown",
      "metadata": {},
      "source": [
        "We will take of the null values by filling them with zero."
      ]
    },
    {
      "cell_type": "code",
      "execution_count": 90,
      "metadata": {},
      "outputs": [
        {
          "name": "stdout",
          "output_type": "stream",
          "text": [
            "<class 'pandas.core.frame.DataFrame'>\n",
            "Int64Index: 10845 entries, 0 to 10844\n",
            "Data columns (total 6 columns):\n",
            " #   Column               Non-Null Count  Dtype         \n",
            "---  ------               --------------  -----         \n",
            " 0   timestamp            10845 non-null  datetime64[ns]\n",
            " 1   product_id           10845 non-null  object        \n",
            " 2   estimated_stock_pct  10845 non-null  float64       \n",
            " 3   quantity             10845 non-null  float64       \n",
            " 4   unit_price           10845 non-null  float64       \n",
            " 5   temperature          10845 non-null  float64       \n",
            "dtypes: datetime64[ns](1), float64(4), object(1)\n",
            "memory usage: 593.1+ KB\n"
          ]
        }
      ],
      "source": [
        "merge_df = merge_df.fillna(0)\n",
        "merge_df.info()"
      ]
    },
    {
      "attachments": {},
      "cell_type": "markdown",
      "metadata": {},
      "source": [
        "We can add the rest of features like `category`"
      ]
    },
    {
      "cell_type": "code",
      "execution_count": 96,
      "metadata": {},
      "outputs": [
        {
          "name": "stdout",
          "output_type": "stream",
          "text": [
            "<class 'pandas.core.frame.DataFrame'>\n",
            "Int64Index: 10845 entries, 0 to 10844\n",
            "Data columns (total 7 columns):\n",
            " #   Column               Non-Null Count  Dtype         \n",
            "---  ------               --------------  -----         \n",
            " 0   timestamp            10845 non-null  datetime64[ns]\n",
            " 1   product_id           10845 non-null  object        \n",
            " 2   estimated_stock_pct  10845 non-null  float64       \n",
            " 3   quantity             10845 non-null  float64       \n",
            " 4   unit_price           10845 non-null  float64       \n",
            " 5   temperature          10845 non-null  float64       \n",
            " 6   category             10845 non-null  object        \n",
            "dtypes: datetime64[ns](1), float64(4), object(2)\n",
            "memory usage: 677.8+ KB\n"
          ]
        }
      ],
      "source": [
        "product_cat = sales_df[['product_id','category']].drop_duplicates()\n",
        "merge_df = merge_df.merge(product_cat,on='product_id',how='left')\n",
        "merge_df.info()"
      ]
    }
  ],
  "metadata": {
    "colab": {
      "collapsed_sections": [],
      "name": "modeling.ipynb",
      "provenance": []
    },
    "kernelspec": {
      "display_name": "Python 3",
      "name": "python3"
    },
    "language_info": {
      "codemirror_mode": {
        "name": "ipython",
        "version": 3
      },
      "file_extension": ".py",
      "mimetype": "text/x-python",
      "name": "python",
      "nbconvert_exporter": "python",
      "pygments_lexer": "ipython3",
      "version": "3.9.13"
    }
  },
  "nbformat": 4,
  "nbformat_minor": 0
}
